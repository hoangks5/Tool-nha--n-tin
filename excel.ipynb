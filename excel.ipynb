{
 "cells": [
  {
   "cell_type": "code",
   "execution_count": 2,
   "metadata": {},
   "outputs": [],
   "source": [
    "import openpyxl\n",
    "import os\n",
    "import random\n",
    "import pandas as pd\n",
    "import numpy as np"
   ]
  },
  {
   "cell_type": "code",
   "execution_count": 3,
   "metadata": {},
   "outputs": [],
   "source": [
    "def create_file(id_group):\n",
    "    \n",
    "    # Tạo một tệp Excel mới\n",
    "    workbook = openpyxl.Workbook()\n",
    "\n",
    "    # Lấy sheet đầu tiên của tệp Excel\n",
    "    sheet = workbook.active\n",
    "\n",
    "    # Thêm tiêu đề vào sheet\n",
    "    sheet['A1'] = 'Thời gian'\n",
    "    sheet['B1'] = 'Mã cộng'\n",
    "    sheet['C1'] = 'Tỷ giá'\n",
    "    sheet['D1'] = 'Thời gian'\n",
    "    sheet['E1'] = 'Mã trừ'\n",
    "    sheet['F1'] = 'Cần trả'\n",
    "    sheet['G1'] = 'Còn lại'\n",
    "    sheet['F2'] = 0\n",
    "    sheet['G2'] = 0\n",
    "\n",
    "\n",
    "\n",
    "\n",
    "\n",
    "    # Lưu tệp Excel\n",
    "    workbook.save(str(id_group)+'.xlsx')"
   ]
  },
  {
   "cell_type": "code",
   "execution_count": 4,
   "metadata": {},
   "outputs": [],
   "source": [
    "def convert_to_number(char):\n",
    "    # Convert character to uppercase\n",
    "    char = char.upper()\n",
    "    # Get Unicode code point for character\n",
    "    code = ord(char)\n",
    "    # Subtract Unicode code point for 'A' to get 1-based index\n",
    "    return code - ord('A') + 1"
   ]
  },
  {
   "cell_type": "code",
   "execution_count": 5,
   "metadata": {},
   "outputs": [],
   "source": [
    "def them_ma_cong(id_group,id_column,code):\n",
    "    workbook = openpyxl.load_workbook(str(id_group)+'.xlsx')\n",
    "\n",
    "    # Select active worksheet\n",
    "    worksheet = workbook.active\n",
    "\n",
    "    last_row = 1\n",
    "    for cell in worksheet[id_column]:\n",
    "        if cell.value is not None:\n",
    "            last_row += 1\n",
    "    worksheet.cell(row=last_row, column=convert_to_number(id_column)).value = code\n",
    "\n",
    "    # Save the changes\n",
    "    workbook.save(str(id_group)+'.xlsx')"
   ]
  },
  {
   "cell_type": "code",
   "execution_count": 143,
   "metadata": {},
   "outputs": [],
   "source": [
    "def tinh_toan(id_group):\n",
    "    # Đọc dữ liệu từ bảng tính Excel\n",
    "    df = pd.read_excel(str(id_group)+\".xlsx\")\n",
    "\n",
    "    \n",
    "    column_b = df.iloc[:, 1].tolist()\n",
    "    matrix_b = np.array(column_b).reshape((-1, 1))\n",
    "    column_e = df.iloc[:, 0].tolist()\n",
    "    matrix_e = np.array(column_e).reshape((-1, 1))\n",
    "    column_f = df.iloc[:, 3].tolist()\n",
    "    matrix_f = np.array(column_f).reshape((-1, 1))\n",
    "    column_c = df.iloc[:, 2].tolist()\n",
    "    matrix_c = np.array(column_c).reshape((-1, 1))\n",
    "    column_d = df.iloc[:, 4].tolist()\n",
    "    matrix_d = np.array(column_d).reshape((-1, 1))\n",
    "    matrix_b = matrix_b[~np.isnan(matrix_b)].reshape(-1, 1)\n",
    "    matrix_c = matrix_c[~np.isnan(matrix_c)].reshape(-1, 1)\n",
    "    matrix_d = matrix_d[~np.isnan(matrix_d)].reshape(-1, 1)\n",
    "    try:\n",
    "        _tongnhap = sum(matrix_b*matrix_c)[0]\n",
    "    except TypeError:\n",
    "        _tongnhap = 0\n",
    "    try:\n",
    "        _trongtra = sum(matrix_d)[0]\n",
    "    except TypeError:\n",
    "        _trongtra = 0\n",
    "    _conlai =  _tongnhap - _trongtra\n",
    "\n",
    "    workbook = openpyxl.load_workbook(str(id_group)+'.xlsx')\n",
    "\n",
    "    worksheet = workbook.active\n",
    "    worksheet['F2'] = _tongnhap\n",
    "    worksheet['G2'] = _conlai\n",
    "    # Save the changes\n",
    "    workbook.save(str(id_group)+'.xlsx')\n",
    "    return {\n",
    "        'tong_nhap': _tongnhap,\n",
    "        'tong_tra': _trongtra,\n",
    "        'con_lai': _conlai\n",
    "    }"
   ]
  },
  {
   "cell_type": "code",
   "execution_count": 145,
   "metadata": {},
   "outputs": [],
   "source": [
    "def reset():\n",
    "    create_file(1)\n",
    "    for i in range(10):\n",
    "        them_ma_cong(1,'B',random.randint(0,100))\n",
    "        them_ma_cong(1,'C',random.randint(0,100))\n",
    "    for i in range(5):\n",
    "        them_ma_cong(1,'E',random.randint(1000,10000))\n",
    "    tinh_toan(1)"
   ]
  },
  {
   "cell_type": "code",
   "execution_count": 67,
   "metadata": {},
   "outputs": [],
   "source": [
    "def sua_ma_cong(id_group,stt,code):\n",
    "    workbook = openpyxl.load_workbook(str(id_group)+'.xlsx')\n",
    "\n",
    "    # Select active worksheet\n",
    "    worksheet = workbook.active\n",
    "\n",
    "    worksheet['B'+str(stt+1)] = code\n",
    "\n",
    "    # Save the changes\n",
    "    workbook.save(str(id_group)+'.xlsx')\n"
   ]
  },
  {
   "cell_type": "code",
   "execution_count": 71,
   "metadata": {},
   "outputs": [],
   "source": [
    "def sua_ma_nhan(id_group,stt,code):\n",
    "    workbook = openpyxl.load_workbook(str(id_group)+'.xlsx')\n",
    "\n",
    "    # Select active worksheet\n",
    "    worksheet = workbook.active\n",
    "\n",
    "    worksheet['E'+str(stt+1)] = code\n",
    "\n",
    "    # Save the changes\n",
    "    workbook.save(str(id_group)+'.xlsx')\n"
   ]
  },
  {
   "cell_type": "code",
   "execution_count": 2,
   "metadata": {},
   "outputs": [],
   "source": [
    "code_chat = {\n",
    "        'Bắt Đầu' : 'Reset vào tạo 1 phiên giao dịch mới',\n",
    "        'vnd 2345' : 'Thiết lập tỷ giá VND = 2345',\n",
    "        '+2000' : 'Thêm 1 mã nhập 2000',\n",
    "        '-2000' : 'Thêm một lệnh trừ VND 2000',\n",
    "        'sửa mã 1 = 2000' : 'Sửa mã nhập thứ 1 thành 2000',\n",
    "        'sửa vnd 1 = 2000' : 'Sửa mã trừ thứ 1 thành 2000',\n",
    "        'Xuất file': 'Xuất ra file excel',\n",
    "    }\n"
   ]
  },
  {
   "cell_type": "code",
   "execution_count": 9,
   "metadata": {},
   "outputs": [
    {
     "data": {
      "text/plain": [
       "['Bắt Đầu',\n",
       " 'vnd 2345',\n",
       " '+2000',\n",
       " '-2000',\n",
       " 'sửa mã 1 = 2000',\n",
       " 'sửa vnd 1 = 2000',\n",
       " 'Xuất file']"
      ]
     },
     "execution_count": 9,
     "metadata": {},
     "output_type": "execute_result"
    }
   ],
   "source": [
    "list(code_chat.keys())"
   ]
  },
  {
   "cell_type": "code",
   "execution_count": null,
   "metadata": {},
   "outputs": [],
   "source": []
  }
 ],
 "metadata": {
  "kernelspec": {
   "display_name": "base",
   "language": "python",
   "name": "python3"
  },
  "language_info": {
   "codemirror_mode": {
    "name": "ipython",
    "version": 3
   },
   "file_extension": ".py",
   "mimetype": "text/x-python",
   "name": "python",
   "nbconvert_exporter": "python",
   "pygments_lexer": "ipython3",
   "version": "3.9.13"
  },
  "orig_nbformat": 4,
  "vscode": {
   "interpreter": {
    "hash": "717eb3bd5c73e0b99903ea1a047f82b2d42f0f7a3e4e3011253489e848f06f6e"
   }
  }
 },
 "nbformat": 4,
 "nbformat_minor": 2
}
